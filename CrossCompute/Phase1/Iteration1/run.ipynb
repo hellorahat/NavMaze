{
 "cells": [
  {
   "cell_type": "code",
   "execution_count": 4,
   "metadata": {},
   "outputs": [],
   "source": [
    "from os import getenv\n",
    "from pathlib import Path\n",
    "import csv"
   ]
  },
  {
   "cell_type": "code",
   "execution_count": 5,
   "metadata": {},
   "outputs": [],
   "source": [
    "def csvToList(f):\n",
    "    \"\"\"\n",
    "    Converts CSV file into 2D list format.\n",
    "    :param f (str): The CSV to be converted.\n",
    "    :return: 2D list\n",
    "    \"\"\"\n",
    "    with open(f, 'r') as file:\n",
    "        csvData = list(csv.reader(file))\n",
    "        rowNum = len(csvData)\n",
    "        colNum = len(csvData[0])\n",
    "        mazeList = [[0 for i in range(colNum)] for j in range(rowNum)]\n",
    "        for i in range(rowNum):\n",
    "            colNum = len(csvData[i])\n",
    "            for j in range(colNum):\n",
    "                mazeList[i][j] = csvData[i][j]\n",
    "    return mazeList\n",
    "\n",
    "def validateMaze(mazeList):\n",
    "    \"\"\"\n",
    "    Validates if a 2D list is a maze by checking if the following rules are passed:\n",
    "    - There must be a start and end point.\n",
    "    - There can be no more than one start point.\n",
    "    - There can be no more than one end point.\n",
    "    :param mazeList: The 2D list to be validated.\n",
    "    :return: validation (bool), errors (str)\n",
    "    \"\"\"\n",
    "    validation = True\n",
    "    errors = \"\"\n",
    "    startCount = 0\n",
    "    endCount = 0\n",
    "    for i in range(len(mazeList)):\n",
    "        for j in range(len(mazeList[0])):\n",
    "            if mazeList[i][j] == \"S\":\n",
    "                startCount += 1\n",
    "            elif mazeList[i][j] == \"E\":\n",
    "                endCount += 1\n",
    "    if startCount == 0 or endCount == 0:\n",
    "        validation = False\n",
    "        errors += \"There must be a start and end point.\\n\"\n",
    "    if startCount > 1:\n",
    "        validation = False\n",
    "        errors += \"There can be no more than one start point.\\n\"\n",
    "    if endCount > 1:\n",
    "        validation = False\n",
    "        errors += \"There can be no more than one end point.\\n\"\n",
    "    return validation, errors\n",
    "\n",
    "def displayMaze(mazeList):\n",
    "    \"\"\"\n",
    "    Print out a 2D list in the format of a Maze.\n",
    "    :param mazeList: The 2D list to be printed.\n",
    "    \"\"\"\n",
    "    row = \"\"\n",
    "    for i in range(len(mazeList)):\n",
    "        for j in range(len(mazeList[0])):\n",
    "            if row != \"\":\n",
    "                row += \" \"\n",
    "            if mazeList[i][j] == \"\":\n",
    "                row += \" \"\n",
    "            else:\n",
    "                row += str(mazeList[i][j])\n",
    "        print(row)\n",
    "        row = \"\"\n"
   ]
  },
  {
   "cell_type": "code",
   "execution_count": 6,
   "metadata": {},
   "outputs": [
    {
     "ename": "FileNotFoundError",
     "evalue": "[Errno 2] No such file or directory: 'NavMazeExample.csv'",
     "output_type": "error",
     "traceback": [
      "\u001b[1;31m---------------------------------------------------------------------------\u001b[0m",
      "\u001b[1;31mFileNotFoundError\u001b[0m                         Traceback (most recent call last)",
      "\u001b[1;32mc:\\Users\\rsaza\\OneDrive\\Documents\\GitHub\\NavMaze\\CrossCompute\\Phase1\\Iteration1\\run.ipynb Cell 3\u001b[0m line \u001b[0;36m1\n\u001b[1;32m----> <a href='vscode-notebook-cell:/c%3A/Users/rsaza/OneDrive/Documents/GitHub/NavMaze/CrossCompute/Phase1/Iteration1/run.ipynb#W2sZmlsZQ%3D%3D?line=0'>1</a>\u001b[0m \u001b[39mwith\u001b[39;00m \u001b[39mopen\u001b[39;49m(\u001b[39m'\u001b[39;49m\u001b[39mNavMazeExample.csv\u001b[39;49m\u001b[39m'\u001b[39;49m, \u001b[39m'\u001b[39;49m\u001b[39mr\u001b[39;49m\u001b[39m'\u001b[39;49m) \u001b[39mas\u001b[39;00m file:\n\u001b[0;32m      <a href='vscode-notebook-cell:/c%3A/Users/rsaza/OneDrive/Documents/GitHub/NavMaze/CrossCompute/Phase1/Iteration1/run.ipynb#W2sZmlsZQ%3D%3D?line=1'>2</a>\u001b[0m     mazeList \u001b[39m=\u001b[39m csvToList(\u001b[39m\"\u001b[39m\u001b[39mNavMazeExample.csv\u001b[39m\u001b[39m\"\u001b[39m)\n\u001b[0;32m      <a href='vscode-notebook-cell:/c%3A/Users/rsaza/OneDrive/Documents/GitHub/NavMaze/CrossCompute/Phase1/Iteration1/run.ipynb#W2sZmlsZQ%3D%3D?line=2'>3</a>\u001b[0m     validation \u001b[39m=\u001b[39m validateMaze(mazeList)\n",
      "File \u001b[1;32mc:\\Users\\rsaza\\OneDrive\\Documents\\GitHub\\NavMaze\\venv\\lib\\site-packages\\IPython\\core\\interactiveshell.py:286\u001b[0m, in \u001b[0;36m_modified_open\u001b[1;34m(file, *args, **kwargs)\u001b[0m\n\u001b[0;32m    279\u001b[0m \u001b[39mif\u001b[39;00m file \u001b[39min\u001b[39;00m {\u001b[39m0\u001b[39m, \u001b[39m1\u001b[39m, \u001b[39m2\u001b[39m}:\n\u001b[0;32m    280\u001b[0m     \u001b[39mraise\u001b[39;00m \u001b[39mValueError\u001b[39;00m(\n\u001b[0;32m    281\u001b[0m         \u001b[39mf\u001b[39m\u001b[39m\"\u001b[39m\u001b[39mIPython won\u001b[39m\u001b[39m'\u001b[39m\u001b[39mt let you open fd=\u001b[39m\u001b[39m{\u001b[39;00mfile\u001b[39m}\u001b[39;00m\u001b[39m by default \u001b[39m\u001b[39m\"\u001b[39m\n\u001b[0;32m    282\u001b[0m         \u001b[39m\"\u001b[39m\u001b[39mas it is likely to crash IPython. If you know what you are doing, \u001b[39m\u001b[39m\"\u001b[39m\n\u001b[0;32m    283\u001b[0m         \u001b[39m\"\u001b[39m\u001b[39myou can use builtins\u001b[39m\u001b[39m'\u001b[39m\u001b[39m open.\u001b[39m\u001b[39m\"\u001b[39m\n\u001b[0;32m    284\u001b[0m     )\n\u001b[1;32m--> 286\u001b[0m \u001b[39mreturn\u001b[39;00m io_open(file, \u001b[39m*\u001b[39margs, \u001b[39m*\u001b[39m\u001b[39m*\u001b[39mkwargs)\n",
      "\u001b[1;31mFileNotFoundError\u001b[0m: [Errno 2] No such file or directory: 'NavMazeExample.csv'"
     ]
    }
   ],
   "source": [
    "with open('NavMazeExample.csv', 'r') as file:\n",
    "    mazeList = csvToList(\"NavMazeExample.csv\")\n",
    "    validation = validateMaze(mazeList)\n",
    "    if validation[0]:\n",
    "        displayMaze(mazeList)\n",
    "    else:\n",
    "        print(validation[1])\n",
    "        exit()"
   ]
  }
 ],
 "metadata": {
  "kernelspec": {
   "display_name": "Python 3",
   "language": "python",
   "name": "python3"
  },
  "language_info": {
   "codemirror_mode": {
    "name": "ipython",
    "version": 3
   },
   "file_extension": ".py",
   "mimetype": "text/x-python",
   "name": "python",
   "nbconvert_exporter": "python",
   "pygments_lexer": "ipython3",
   "version": "3.9.0"
  },
  "orig_nbformat": 4
 },
 "nbformat": 4,
 "nbformat_minor": 2
}

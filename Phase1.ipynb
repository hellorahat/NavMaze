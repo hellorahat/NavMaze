{
 "cells": [
  {
   "cell_type": "code",
   "execution_count": 32,
   "metadata": {},
   "outputs": [],
   "source": [
    "import csv"
   ]
  },
  {
   "cell_type": "code",
   "execution_count": 33,
   "metadata": {},
   "outputs": [],
   "source": [
    "def csvToList(f):\n",
    "    \"\"\"\n",
    "    Converts CSV file into 2D list format.\n",
    "    :param f (str): The CSV to be converted.\n",
    "    :return: 2D list\n",
    "    \"\"\"\n",
    "    with open(f, 'r') as file:\n",
    "        csvData = list(csv.reader(file))\n",
    "        rowNum = len(csvData)\n",
    "        colNum = len(csvData[0])\n",
    "        mazeList = [[0 for i in range(colNum)] for j in range(rowNum)]\n",
    "        for i in range(rowNum):\n",
    "            colNum = len(csvData[i])\n",
    "            for j in range(colNum):\n",
    "                mazeList[i][j] = csvData[i][j]\n",
    "    return mazeList\n",
    "\n",
    "def validateMaze(mazeList):\n",
    "    \"\"\"\n",
    "    Validates if a 2D list is a maze by checking if the following rules are passed:\n",
    "    - There must be a start and end point.\n",
    "    - There can be no more than one start point.\n",
    "    - There can be no more than one end point.\n",
    "    :param mazeList: The 2D list to be validated.\n",
    "    :return: validation (bool), errors (str)\n",
    "    \"\"\"\n",
    "    validation = True\n",
    "    errors = \"\"\n",
    "    startCount = 0\n",
    "    endCount = 0\n",
    "    for i in range(len(mazeList)):\n",
    "        for j in range(len(mazeList[0])):\n",
    "            if mazeList[i][j] == \"S\":\n",
    "                startCount += 1\n",
    "            elif mazeList[i][j] == \"E\":\n",
    "                endCount += 1\n",
    "    if startCount == 0 or endCount == 0:\n",
    "        validation = False\n",
    "        errors += \"There must be a start and end point.\\n\"\n",
    "    if startCount > 1:\n",
    "        validation = False\n",
    "        errors += \"There can be no more than one start point.\\n\"\n",
    "    if endCount > 1:\n",
    "        validation = False\n",
    "        errors += \"There can be no more than one end point.\\n\"\n",
    "    return validation, errors\n",
    "\n",
    "def displayMaze(mazeList):\n",
    "    \"\"\"\n",
    "    Print out a 2D list in the format of a Maze.\n",
    "    :param mazeList: The 2D list to be printed.\n",
    "    \"\"\"\n",
    "    row = \"\"\n",
    "    for i in range(len(mazeList)):\n",
    "        for j in range(len(mazeList[0])):\n",
    "            if row != \"\":\n",
    "                row += \" \"\n",
    "            if mazeList[i][j] == \"\":\n",
    "                row += \" \"\n",
    "            else:\n",
    "                row += str(mazeList[i][j])\n",
    "        print(row)\n",
    "        row = \"\"\n"
   ]
  },
  {
   "cell_type": "code",
   "execution_count": 35,
   "metadata": {},
   "outputs": [
    {
     "name": "stdout",
     "output_type": "stream",
     "text": [
      "W W W W W W          \n",
      "W         W W W W W W\n",
      "W S W W             W\n",
      "W                   W\n",
      "W W W W W W W   W   W\n",
      "W           W   W   W\n",
      "W           W   W   W\n",
      "W           W   W   W\n",
      "W                   W\n",
      "W   W W W W W   W   W\n",
      "W           W   W   W\n",
      "W           W   W   W\n",
      "W                   W\n",
      "W                   W\n",
      "W             E     W\n",
      "W W W W W W W W W W W\n"
     ]
    }
   ],
   "source": [
    "with open('NavMazeExample.csv', 'r') as file:\n",
    "    mazeList = csvToList(\"NavMazeExample.csv\")\n",
    "    validation = validateMaze(mazeList)\n",
    "    if validation[0]:\n",
    "        displayMaze(mazeList)\n",
    "    else:\n",
    "        print(validation[1])\n",
    "        exit()"
   ]
  }
 ],
 "metadata": {
  "kernelspec": {
   "display_name": "Python 3",
   "language": "python",
   "name": "python3"
  },
  "language_info": {
   "codemirror_mode": {
    "name": "ipython",
    "version": 3
   },
   "file_extension": ".py",
   "mimetype": "text/x-python",
   "name": "python",
   "nbconvert_exporter": "python",
   "pygments_lexer": "ipython3",
   "version": "3.11.3"
  },
  "orig_nbformat": 4
 },
 "nbformat": 4,
 "nbformat_minor": 2
}
